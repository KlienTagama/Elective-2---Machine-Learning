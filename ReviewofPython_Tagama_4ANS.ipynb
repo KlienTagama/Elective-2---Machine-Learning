{
  "nbformat": 4,
  "nbformat_minor": 0,
  "metadata": {
    "colab": {
      "provenance": [],
      "toc_visible": true,
      "collapsed_sections": []
    },
    "kernelspec": {
      "name": "python3",
      "display_name": "Python 3"
    },
    "language_info": {
      "name": "python"
    }
  },
  "cells": [
    {
      "cell_type": "markdown",
      "source": [
        "# **Tagama, Klien A.**"
      ],
      "metadata": {
        "id": "WV-tDIDNX90m"
      }
    },
    {
      "cell_type": "markdown",
      "source": [
        "This is the notebook for Introduction to Machine Learning "
      ],
      "metadata": {
        "id": "nuLAY70LYKyo"
      }
    },
    {
      "cell_type": "markdown",
      "source": [
        "#Review of Python Programming"
      ],
      "metadata": {
        "id": "JzwoJaO4YbFa"
      }
    },
    {
      "cell_type": "markdown",
      "source": [
        "## Proper Naming Convention "
      ],
      "metadata": {
        "id": "2OSj5aeRYlqW"
      }
    },
    {
      "cell_type": "markdown",
      "source": [
        "You might think discussing this topic must be pointless or too simplistic but it is actually one of the most frequent mistakes that data scientists, professors, or researchers usually do. Naming variables and functions properly will bring clarity to understanding the code."
      ],
      "metadata": {
        "id": "ROR1QIBoaLlp"
      }
    },
    {
      "cell_type": "code",
      "source": [
        "import pandas as pd"
      ],
      "metadata": {
        "id": "k8FTRF0-aDA3"
      },
      "execution_count": null,
      "outputs": []
    },
    {
      "cell_type": "code",
      "source": [
        "last_names = [\"Rosales\",\"Cruz\", \"Reyes\"]\n",
        "#ln , avoid creating ambiguity"
      ],
      "metadata": {
        "id": "wcpwpXMhaoQ_"
      },
      "execution_count": null,
      "outputs": []
    },
    {
      "cell_type": "code",
      "source": [
        "last_names"
      ],
      "metadata": {
        "colab": {
          "base_uri": "https://localhost:8080/"
        },
        "id": "6ygSIRTIbNta",
        "outputId": "907177c9-734d-452f-88f8-7065c1f12ed3"
      },
      "execution_count": null,
      "outputs": [
        {
          "output_type": "execute_result",
          "data": {
            "text/plain": [
              "['Rosales', 'Cruz', 'Reyes']"
            ]
          },
          "metadata": {},
          "execution_count": 3
        }
      ]
    },
    {
      "cell_type": "markdown",
      "source": [
        "##Practice Activity\n",
        "1. Create variable declarations for \n",
        "   - First Names\n",
        "   -Grades for Prelim\n",
        "   -Grades for Midterm\n",
        "   -Grades for Finals"
      ],
      "metadata": {
        "id": "alN4AtH8bb4b"
      }
    },
    {
      "cell_type": "code",
      "source": [
        "import pandas as pd"
      ],
      "metadata": {
        "id": "2RCExqHGbUca"
      },
      "execution_count": null,
      "outputs": []
    },
    {
      "cell_type": "code",
      "source": [
        "first_names = [\"Klien\",\"Zandy\", \"Cigrid\", \"Kenneth\", \"Ruby\"]\n",
        "grades_prelim = [90, 94, 93, 90, 93]\n",
        "grades_midterm = [91, 95, 94, 91, 94]\n",
        "grades_finals = [92, 96, 95, 92, 95]"
      ],
      "metadata": {
        "id": "RN9xcBITM5v3"
      },
      "execution_count": null,
      "outputs": []
    },
    {
      "cell_type": "code",
      "source": [
        "first_names"
      ],
      "metadata": {
        "colab": {
          "base_uri": "https://localhost:8080/"
        },
        "id": "q6rwLT9XOcLj",
        "outputId": "f0103281-68c8-4a3b-a1d1-f378090f80fa"
      },
      "execution_count": null,
      "outputs": [
        {
          "output_type": "execute_result",
          "data": {
            "text/plain": [
              "['Klien', 'Zandy', 'Cigrid', 'Kenneth', 'Ruby']"
            ]
          },
          "metadata": {},
          "execution_count": 7
        }
      ]
    },
    {
      "cell_type": "code",
      "source": [
        "grades_prelim"
      ],
      "metadata": {
        "colab": {
          "base_uri": "https://localhost:8080/"
        },
        "id": "pw-_fgBmPBBU",
        "outputId": "ca02cd38-818c-4e84-8851-5ece574dd593"
      },
      "execution_count": null,
      "outputs": [
        {
          "output_type": "execute_result",
          "data": {
            "text/plain": [
              "[90, 94, 93, 90, 93]"
            ]
          },
          "metadata": {},
          "execution_count": 8
        }
      ]
    },
    {
      "cell_type": "code",
      "source": [
        "grades_midterm"
      ],
      "metadata": {
        "colab": {
          "base_uri": "https://localhost:8080/"
        },
        "id": "cfxMvZ_QPBRf",
        "outputId": "72344600-cd19-45a1-82e0-708ae9594d12"
      },
      "execution_count": null,
      "outputs": [
        {
          "output_type": "execute_result",
          "data": {
            "text/plain": [
              "[91, 95, 94, 91, 94]"
            ]
          },
          "metadata": {},
          "execution_count": 9
        }
      ]
    },
    {
      "cell_type": "code",
      "source": [
        "grades_finals"
      ],
      "metadata": {
        "colab": {
          "base_uri": "https://localhost:8080/"
        },
        "id": "92LMS2HyPBhm",
        "outputId": "386ecbed-8735-4921-dafd-d6198fc142f7"
      },
      "execution_count": null,
      "outputs": [
        {
          "output_type": "execute_result",
          "data": {
            "text/plain": [
              "[92, 96, 95, 92, 95]"
            ]
          },
          "metadata": {},
          "execution_count": 10
        }
      ]
    },
    {
      "cell_type": "markdown",
      "source": [
        "##Code Reusability"
      ],
      "metadata": {
        "id": "AR-JIDeRcKIV"
      }
    },
    {
      "cell_type": "markdown",
      "source": [
        "Just like in any writing we want to reduce redundancies in our content. Just like following the rules of brevity we also consider that in creating cleaner code. One way of applying brevity to code is code reusability wherein you refrain from creating code that you repeat in encoding. This is where the use of functions will be most used. Consider the following code below."
      ],
      "metadata": {
        "id": "bkh-O-xicOgI"
      }
    },
    {
      "cell_type": "code",
      "source": [
        "'''\n",
        "    CASE 2: Computing grades.\n",
        "\n",
        "    For this cell we are going to look into creating functions for the class.\n",
        "    This includes computing for their grades and some classroom management\n",
        "    routines.\n",
        "'''\n",
        "### Consider this procedural programming script\n",
        "gs_1 = [89.4, 78.2, 88.0, 28.5, 67.3]\n",
        "# Get average grades of the class\n",
        "class_g = 0\n",
        "for g in gs_1:\n",
        "  class_g += g\n",
        "cmean = class_g/len(gs_1)\n",
        "print (cmean)"
      ],
      "metadata": {
        "colab": {
          "base_uri": "https://localhost:8080/"
        },
        "id": "NLnOlMKlb2b1",
        "outputId": "92969a8c-8329-44eb-825c-e64f49c13d74"
      },
      "execution_count": null,
      "outputs": [
        {
          "output_type": "stream",
          "name": "stdout",
          "text": [
            "70.28\n"
          ]
        }
      ]
    },
    {
      "cell_type": "code",
      "source": [
        "gs_1 = [89, 90, 73, 45]\n",
        "\n",
        "class_g = 0\n",
        "for g in gs_1:\n",
        "  class_g += g\n",
        "cmean = class_g/len(gs_1)\n",
        "print (cmean)"
      ],
      "metadata": {
        "id": "xIfmg6nGc-4a",
        "colab": {
          "base_uri": "https://localhost:8080/"
        },
        "outputId": "07290e16-e8bd-4db8-b502-610103127b7b"
      },
      "execution_count": null,
      "outputs": [
        {
          "output_type": "stream",
          "name": "stdout",
          "text": [
            "74.25\n"
          ]
        }
      ]
    },
    {
      "cell_type": "code",
      "source": [
        "### That works but if you keep doing that for production, it would just look\n",
        "### like spaghetti code. Instead, if you are repeating code, consider creating\n",
        "### a function.\n",
        "\n",
        "def average(grades):\n",
        "  grades_class = 0\n",
        "  for g in grades:\n",
        "    grades_class += g\n",
        "  avg = grades_class/len(grades)\n",
        "  return avg"
      ],
      "metadata": {
        "id": "I8enZymbdNGf"
      },
      "execution_count": null,
      "outputs": []
    },
    {
      "cell_type": "code",
      "source": [
        "## The code above would be reusable but it is not easy to read. We need to \n",
        "### enforce the code refactoring for renaming not just the variables but also\n",
        "### the functions we are creating. So if we would refactor the 'average' \n",
        "### Function earlier it could be:\n",
        "\n",
        "def get_class_ave(arr):\n",
        "  class_grades = 0\n",
        "  for grade in arr:\n",
        "    class_grades += grade\n",
        "  class_avg = class_grades/len(arr)\n",
        "  return class_avg"
      ],
      "metadata": {
        "id": "NHEnXwXBdkt-"
      },
      "execution_count": null,
      "outputs": []
    },
    {
      "cell_type": "markdown",
      "source": [
        "##Getting Class Statistics"
      ],
      "metadata": {
        "id": "BEwCQHwCdqkZ"
      }
    },
    {
      "cell_type": "markdown",
      "source": [
        "Create a function named get_grades() for computing the semestral grade of each student:\n",
        "\n",
        "inputs: DataFrame of a class grade sheet.\n",
        "\n",
        "outpus: DataFrame showing:\n",
        "    The prelim, midterms, and finals grades of each student\n",
        "    The semestral grade of each student\n",
        "\n",
        "Create a function named get_class_stats().\n",
        "\n",
        "inputs: DataFrame from get_grades().\n",
        "\n",
        "outpus: DataFrame showing:\n",
        "    The lowest and highest prelim, midterm, finals, and semestral grades\n",
        "    the mean, median, mode, and standard deviation of the grades"
      ],
      "metadata": {
        "id": "LJ1UECSWd43_"
      }
    },
    {
      "cell_type": "code",
      "source": [
        "data = {\n",
        "    'Name' : [\"Klien\",\"Zandy\", \"Cigrid\", \"Kenneth\", \"Ruby\"],\n",
        "    'Prelim' : [90, 94, 93, 90, 93],\n",
        "    'Midterm' : [91, 95, 94, 91, 94],\n",
        "    'Finals' : [92, 96, 95, 92, 95]\n",
        "}\n",
        "import statistics \n",
        "def get_grades():\n",
        "  class_grade_sheet = pd.DataFrame({\n",
        "    'Name' : [\"Klien\",\"Zandy\", \"Cigrid\", \"Kenneth\", \"Ruby\"],\n",
        "    'Prelim' : [90, 94, 93, 90, 93],\n",
        "    'Midterm' : [91, 95, 94, 91, 94],\n",
        "    'Finals' : [92, 96, 95, 92, 95]})\n",
        "  \n",
        "  return class_grade_sheet\n",
        "\n",
        "print(get_grades());\n",
        "\n",
        "def get_class_stats():\n",
        "  class_grade_sheet = get_grades()\n",
        "  print(\"\\n\")\n",
        "  print(\"Highest in Prelim = \" , class_grade_sheet['Prelim'].max())\n",
        "  print(\"Lowest in Prelim = \" , class_grade_sheet['Prelim'].min())\n",
        "\n",
        "  print(\"\\n\")\n",
        "  print(\"Highest in Prelim = \" , class_grade_sheet['Midterm'].max())\n",
        "  print(\"Lowest in Prelim = \" , class_grade_sheet['Midterm'].min())\n",
        "\n",
        "  print(\"\\n\")\n",
        "  print(\"Highest in Prelim = \" , class_grade_sheet['Finals'].max())\n",
        "  print(\"Lowest in Prelim = \" , class_grade_sheet['Finals'].min())\n",
        "\n",
        "  print(\"\\nMean:\")\n",
        "  print(class_grade_sheet.mean())\n",
        "\n",
        "  print(\"\\nMedian:\")\n",
        "  print(class_grade_sheet.median())\n",
        "\n",
        "  print(\"\\nMode:\")\n",
        "  print(class_grade_sheet.mode())\n",
        "  \n",
        "get_class_stats()"
      ],
      "metadata": {
        "id": "DIfZj6DEd2k4",
        "colab": {
          "base_uri": "https://localhost:8080/"
        },
        "outputId": "c3084e56-4a82-4f74-9d2f-20c905d57b45"
      },
      "execution_count": 18,
      "outputs": [
        {
          "output_type": "stream",
          "name": "stdout",
          "text": [
            "      Name  Prelim  Midterm  Finals\n",
            "0    Klien      90       91      92\n",
            "1    Zandy      94       95      96\n",
            "2   Cigrid      93       94      95\n",
            "3  Kenneth      90       91      92\n",
            "4     Ruby      93       94      95\n",
            "\n",
            "\n",
            "Highest in Prelim =  94\n",
            "Lowest in Prelim =  90\n",
            "\n",
            "\n",
            "Highest in Prelim =  95\n",
            "Lowest in Prelim =  91\n",
            "\n",
            "\n",
            "Highest in Prelim =  96\n",
            "Lowest in Prelim =  92\n",
            "\n",
            "Mean:\n",
            "Prelim     92.0\n",
            "Midterm    93.0\n",
            "Finals     94.0\n",
            "dtype: float64\n",
            "\n",
            "Median:\n",
            "Prelim     93.0\n",
            "Midterm    94.0\n",
            "Finals     95.0\n",
            "dtype: float64\n",
            "\n",
            "Mode:\n",
            "      Name  Prelim  Midterm  Finals\n",
            "0   Cigrid    90.0     91.0    92.0\n",
            "1  Kenneth    93.0     94.0    95.0\n",
            "2    Klien     NaN      NaN     NaN\n",
            "3     Ruby     NaN      NaN     NaN\n",
            "4    Zandy     NaN      NaN     NaN\n"
          ]
        },
        {
          "output_type": "stream",
          "name": "stderr",
          "text": [
            "/usr/local/lib/python3.7/dist-packages/ipykernel_launcher.py:34: FutureWarning: Dropping of nuisance columns in DataFrame reductions (with 'numeric_only=None') is deprecated; in a future version this will raise TypeError.  Select only valid columns before calling the reduction.\n",
            "/usr/local/lib/python3.7/dist-packages/ipykernel_launcher.py:37: FutureWarning: Dropping of nuisance columns in DataFrame reductions (with 'numeric_only=None') is deprecated; in a future version this will raise TypeError.  Select only valid columns before calling the reduction.\n"
          ]
        }
      ]
    },
    {
      "cell_type": "markdown",
      "source": [
        "##Code Optimization\n",
        "When we consider your code to be part of production or for customer delivery we must consider that they are not laggy nor too space-consuming for devices. This is a common practice in data science and machine learning wherein training algorithms take up resources from computers or considering the space a model consumes at your workspace or your customer’s device."
      ],
      "metadata": {
        "id": "yPp4xl-beMIB"
      }
    },
    {
      "cell_type": "markdown",
      "source": [
        "Space Complexity\n",
        "\n",
        "This would specifically refer to your choice of data structures. This is a job for reviewing data structures and algorithms for space complexity. Although in Python for AI we are looking into more data structures like matrices and data frames."
      ],
      "metadata": {
        "id": "CctsMtzIeax_"
      }
    },
    {
      "cell_type": "code",
      "source": [
        "## The following code will optimize how to efficiently store data into memory\n",
        "enrollees_2016_2020 = ['15022', '18302', '8845', '9203', '10035']\n",
        "enrollees_2016_2020 = [15022, 18302, 8845, 9203, 10035]"
      ],
      "metadata": {
        "id": "44ygYd6UeFOK"
      },
      "execution_count": null,
      "outputs": []
    },
    {
      "cell_type": "code",
      "source": [
        "img1 =[[125.453, 254],[64.21,84.53]]\n",
        "img1\n"
      ],
      "metadata": {
        "colab": {
          "base_uri": "https://localhost:8080/"
        },
        "id": "B9I_1oWCewpr",
        "outputId": "a752ef93-b920-481a-b89d-ead3a05cf3fd"
      },
      "execution_count": null,
      "outputs": [
        {
          "output_type": "execute_result",
          "data": {
            "text/plain": [
              "[[125.453, 254], [64.21, 84.53]]"
            ]
          },
          "metadata": {},
          "execution_count": 17
        }
      ]
    },
    {
      "cell_type": "code",
      "source": [
        "import numpy as np\n",
        "img1_vector= np.array(img1)\n",
        "img1_vector"
      ],
      "metadata": {
        "colab": {
          "base_uri": "https://localhost:8080/"
        },
        "id": "BZLeQRJ8e8ow",
        "outputId": "bfd1d185-0ec4-47db-a3e2-992f90dfac3f"
      },
      "execution_count": null,
      "outputs": [
        {
          "output_type": "execute_result",
          "data": {
            "text/plain": [
              "array([[125.453, 254.   ],\n",
              "       [ 64.21 ,  84.53 ]])"
            ]
          },
          "metadata": {},
          "execution_count": 18
        }
      ]
    },
    {
      "cell_type": "markdown",
      "source": [
        "##Practice Activity\n",
        "code wil try to optimize getting unique elements from the given\n",
        "list of class codes\n",
        "\n",
        "curr_2018_courses = ['220', '270', '318', '450', '101', '768', '223L', '223',\n",
        "                     '727', '418', '673', '672', '450', '124', '771', '654',\n",
        "                     '231', '768', '768', '224', '654', '673']\n",
        "\n",
        "### print an array that shows only the unique elements\n",
        "\n"
      ],
      "metadata": {
        "id": "BsPgIjVvfuAM"
      }
    },
    {
      "cell_type": "code",
      "source": [
        "curr_2018_courses = ['220', '270', '318', '450', '101', '768', '223L', '223', '727', '418', '673', '672', '450', '124', '771', '654', '231', '768', '768', '224', '654', '673']\n",
        "\n",
        "def get_unique_numbers(curr_2018_courses):\n",
        "\n",
        "    list_of_unique_numbers = []\n",
        "\n",
        "    unique_numbers = set(curr_2018_courses)\n",
        "\n",
        "    for number in unique_numbers:\n",
        "        list_of_unique_numbers.append(number)\n",
        "\n",
        "    return list_of_unique_numbers\n",
        "\n",
        "\n",
        "print(\"Unique Elements\", get_unique_numbers(curr_2018_courses))"
      ],
      "metadata": {
        "id": "RdpdlgzzfRbX",
        "colab": {
          "base_uri": "https://localhost:8080/"
        },
        "outputId": "4617afbd-c4d8-44c2-a2d9-2c1efa711915"
      },
      "execution_count": 21,
      "outputs": [
        {
          "output_type": "stream",
          "name": "stdout",
          "text": [
            "Unique Elements ['727', '673', '270', '220', '450', '101', '672', '124', '418', '771', '224', '223L', '223', '231', '654', '318', '768']\n"
          ]
        }
      ]
    }
  ]
}